{
 "cells": [
  {
   "cell_type": "markdown",
   "metadata": {},
   "source": [
    "## <u>Setup and Installation</u>\n",
    "\n",
    "`sudo raspi-config`\n",
    "\n",
    "`sudo apt update`\n",
    "\n",
    "`sudo apt upgrade`\n",
    "\n",
    "`sudo apt list --installed`\n",
    "\n",
    "`sudo apt install python3-pip`\n",
    "\n",
    "`sudo apt install python-setuptools`\n",
    "\n",
    "`sudo pip3 install RPIO`\n",
    "\n",
    "`sudo pip3 install smbus`\n",
    "\n",
    "`sudo apt install i2c-tools`\n",
    "\n",
    "[Configure nano](https://linuxhint.com/configure_nano_text_editor_nanorc/)"
   ]
  },
  {
   "cell_type": "markdown",
   "metadata": {},
   "source": [
    "## <ins>[Blink](https://pypi.org/project/RPi.GPIO/)</ins>\n",
    "\n",
    "[Raspberry Pi Pinout](https://pinout.xyz/)\n",
    "\n",
    "### blink.py:\n",
    "```python\n",
    "import RPi.GPIO as GPIO\n",
    "from time import sleep\n",
    "\n",
    "GPIO.setmode(GPIO.BCM)\n",
    "\n",
    "GPIO.setup(23, GPIO.OUT)\n",
    "\n",
    "while True:\n",
    "    GPIO.output(23, GPIO.HIGH)\n",
    "    sleep(1)\n",
    "    GPIO.output(23, GPIO.LOW)\n",
    "    sleep(1)\n",
    "```"
   ]
  },
  {
   "cell_type": "markdown",
   "metadata": {},
   "source": [
    "## <u><a href=\"https://www.sparkfun.com/products/13314\" target=\"_blank\">TMP102</a></u>\n",
    "\n",
    "### [tmp102.ino](https://github.com/sparkfun/SparkFun_TMP102_Arduino_Library/blob/master/src/SparkFunTMP102.cpp)\n",
    "\n",
    "### [tmp102.py](https://github.com/n8many/TMP102py/blob/master/tmp102.py)\n",
    "\n",
    "### [read_temp.py]()\n",
    "\n",
    "[I2C](https://raspberry-projects.com/pi/programming-in-python/i2c-programming-in-python/using-the-i2c-interface-2)"
   ]
  },
  {
   "cell_type": "markdown",
   "metadata": {},
   "source": [
    "## <u>OLED</u>\n",
    "\n",
    "[Arduino Port Manipulation](https://www.arduino.cc/en/Reference/PortManipulation)\n",
    "\n",
    "& - Bitwise and\n",
    "```arduino\n",
    "0  0  1  1    operand1\n",
    "0  1  0  1    operand2\n",
    "----------\n",
    "0  0  0  1    (operand1 & operand2) - returned result\n",
    "```\n",
    "\n",
    "| - Bitwise or\n",
    "```arduino\n",
    "0  0  1  1    operand1\n",
    "0  1  0  1    operand2\n",
    "----------\n",
    "0  1  1  1    (operand1 | operand2) - returned result\n",
    "```\n",
    "\n",
    "~ - Bitwise not\n",
    "```arduino\n",
    "0  1    operand1\n",
    "-----\n",
    "1  0   ~operand1\n",
    "```\n",
    "\n",
    "[spidev](https://github.com/doceme/py-spidev)"
   ]
  },
  {
   "cell_type": "code",
   "execution_count": null,
   "metadata": {},
   "outputs": [],
   "source": [
    "\n"
   ]
  }
 ],
 "metadata": {
  "kernelspec": {
   "display_name": "Python 3",
   "language": "python",
   "name": "python3"
  },
  "language_info": {
   "codemirror_mode": {
    "name": "ipython",
    "version": 3
   },
   "file_extension": ".py",
   "mimetype": "text/x-python",
   "name": "python",
   "nbconvert_exporter": "python",
   "pygments_lexer": "ipython3",
   "version": "3.8.2"
  }
 },
 "nbformat": 4,
 "nbformat_minor": 4
}
